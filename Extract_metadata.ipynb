{
  "nbformat": 4,
  "nbformat_minor": 0,
  "metadata": {
    "colab": {
      "provenance": [],
      "authorship_tag": "ABX9TyNTi+jum7wbmOPArapX6PON",
      "include_colab_link": true
    },
    "kernelspec": {
      "name": "python3",
      "display_name": "Python 3"
    },
    "language_info": {
      "name": "python"
    }
  },
  "cells": [
    {
      "cell_type": "markdown",
      "metadata": {
        "id": "view-in-github",
        "colab_type": "text"
      },
      "source": [
        "<a href=\"https://colab.research.google.com/github/sharanya39/web_scrapping/blob/main/Extract_metadata.ipynb\" target=\"_parent\"><img src=\"https://colab.research.google.com/assets/colab-badge.svg\" alt=\"Open In Colab\"/></a>"
      ]
    },
    {
      "cell_type": "code",
      "execution_count": 1,
      "metadata": {
        "colab": {
          "base_uri": "https://localhost:8080/"
        },
        "id": "qYoCK_ik-0x-",
        "outputId": "8064ae2e-dea1-4e19-f177-6fe3f4d48e49"
      },
      "outputs": [
        {
          "output_type": "stream",
          "name": "stdout",
          "text": [
            "Collecting pyexiftool\n",
            "  Downloading PyExifTool-0.5.6-py3-none-any.whl.metadata (11 kB)\n",
            "Downloading PyExifTool-0.5.6-py3-none-any.whl (51 kB)\n",
            "\u001b[?25l   \u001b[90m━━━━━━━━━━━━━━━━━━━━━━━━━━━━━━━━━━━━━━━━\u001b[0m \u001b[32m0.0/51.2 kB\u001b[0m \u001b[31m?\u001b[0m eta \u001b[36m-:--:--\u001b[0m\r\u001b[2K   \u001b[90m━━━━━━━━━━━━━━━━━━━━━━━━━━━━━━━━━━━━━━━━\u001b[0m \u001b[32m51.2/51.2 kB\u001b[0m \u001b[31m1.9 MB/s\u001b[0m eta \u001b[36m0:00:00\u001b[0m\n",
            "\u001b[?25hInstalling collected packages: pyexiftool\n",
            "Successfully installed pyexiftool-0.5.6\n"
          ]
        }
      ],
      "source": [
        "!pip install pyexiftool"
      ]
    },
    {
      "cell_type": "code",
      "source": [
        "!apt-get install -y libimage-exiftool-perl\n"
      ],
      "metadata": {
        "colab": {
          "base_uri": "https://localhost:8080/"
        },
        "id": "Fe8An6BQ_Zn2",
        "outputId": "f84ed92a-e31e-4cec-8199-c0ac8e3788d4"
      },
      "execution_count": 3,
      "outputs": [
        {
          "output_type": "stream",
          "name": "stdout",
          "text": [
            "Reading package lists... Done\n",
            "Building dependency tree... Done\n",
            "Reading state information... Done\n",
            "The following additional packages will be installed:\n",
            "  libarchive-zip-perl libmime-charset-perl libsombok3 libunicode-linebreak-perl\n",
            "Suggested packages:\n",
            "  libposix-strptime-perl libencode-hanextra-perl libpod2-base-perl\n",
            "The following NEW packages will be installed:\n",
            "  libarchive-zip-perl libimage-exiftool-perl libmime-charset-perl libsombok3\n",
            "  libunicode-linebreak-perl\n",
            "0 upgraded, 5 newly installed, 0 to remove and 23 not upgraded.\n",
            "Need to get 3,964 kB of archives.\n",
            "After this operation, 23.5 MB of additional disk space will be used.\n",
            "Get:1 http://archive.ubuntu.com/ubuntu jammy/main amd64 libarchive-zip-perl all 1.68-1 [90.2 kB]\n",
            "Get:2 http://archive.ubuntu.com/ubuntu jammy/universe amd64 libimage-exiftool-perl all 12.40+dfsg-1 [3,717 kB]\n",
            "Get:3 http://archive.ubuntu.com/ubuntu jammy/universe amd64 libmime-charset-perl all 1.012.2-1 [30.9 kB]\n",
            "Get:4 http://archive.ubuntu.com/ubuntu jammy/universe amd64 libsombok3 amd64 2.4.0-2 [26.9 kB]\n",
            "Get:5 http://archive.ubuntu.com/ubuntu jammy/universe amd64 libunicode-linebreak-perl amd64 0.0.20190101-1build3 [99.1 kB]\n",
            "Fetched 3,964 kB in 1s (3,081 kB/s)\n",
            "Selecting previously unselected package libarchive-zip-perl.\n",
            "(Reading database ... 124947 files and directories currently installed.)\n",
            "Preparing to unpack .../libarchive-zip-perl_1.68-1_all.deb ...\n",
            "Unpacking libarchive-zip-perl (1.68-1) ...\n",
            "Selecting previously unselected package libimage-exiftool-perl.\n",
            "Preparing to unpack .../libimage-exiftool-perl_12.40+dfsg-1_all.deb ...\n",
            "Unpacking libimage-exiftool-perl (12.40+dfsg-1) ...\n",
            "Selecting previously unselected package libmime-charset-perl.\n",
            "Preparing to unpack .../libmime-charset-perl_1.012.2-1_all.deb ...\n",
            "Unpacking libmime-charset-perl (1.012.2-1) ...\n",
            "Selecting previously unselected package libsombok3:amd64.\n",
            "Preparing to unpack .../libsombok3_2.4.0-2_amd64.deb ...\n",
            "Unpacking libsombok3:amd64 (2.4.0-2) ...\n",
            "Selecting previously unselected package libunicode-linebreak-perl.\n",
            "Preparing to unpack .../libunicode-linebreak-perl_0.0.20190101-1build3_amd64.deb ...\n",
            "Unpacking libunicode-linebreak-perl (0.0.20190101-1build3) ...\n",
            "Setting up libsombok3:amd64 (2.4.0-2) ...\n",
            "Setting up libarchive-zip-perl (1.68-1) ...\n",
            "Setting up libimage-exiftool-perl (12.40+dfsg-1) ...\n",
            "Setting up libmime-charset-perl (1.012.2-1) ...\n",
            "Setting up libunicode-linebreak-perl (0.0.20190101-1build3) ...\n",
            "Processing triggers for man-db (2.10.2-1) ...\n",
            "Processing triggers for libc-bin (2.35-0ubuntu3.8) ...\n",
            "/sbin/ldconfig.real: /usr/local/lib/libtbbmalloc.so.2 is not a symbolic link\n",
            "\n",
            "/sbin/ldconfig.real: /usr/local/lib/libtbb.so.12 is not a symbolic link\n",
            "\n",
            "/sbin/ldconfig.real: /usr/local/lib/libumf.so.0 is not a symbolic link\n",
            "\n",
            "/sbin/ldconfig.real: /usr/local/lib/libtbbbind_2_5.so.3 is not a symbolic link\n",
            "\n",
            "/sbin/ldconfig.real: /usr/local/lib/libtcm_debug.so.1 is not a symbolic link\n",
            "\n",
            "/sbin/ldconfig.real: /usr/local/lib/libur_adapter_level_zero.so.0 is not a symbolic link\n",
            "\n",
            "/sbin/ldconfig.real: /usr/local/lib/libhwloc.so.15 is not a symbolic link\n",
            "\n",
            "/sbin/ldconfig.real: /usr/local/lib/libtcm.so.1 is not a symbolic link\n",
            "\n",
            "/sbin/ldconfig.real: /usr/local/lib/libur_loader.so.0 is not a symbolic link\n",
            "\n",
            "/sbin/ldconfig.real: /usr/local/lib/libtbbbind.so.3 is not a symbolic link\n",
            "\n",
            "/sbin/ldconfig.real: /usr/local/lib/libtbbmalloc_proxy.so.2 is not a symbolic link\n",
            "\n",
            "/sbin/ldconfig.real: /usr/local/lib/libur_adapter_opencl.so.0 is not a symbolic link\n",
            "\n",
            "/sbin/ldconfig.real: /usr/local/lib/libtbbbind_2_0.so.3 is not a symbolic link\n",
            "\n"
          ]
        }
      ]
    },
    {
      "cell_type": "code",
      "source": [],
      "metadata": {
        "id": "mj7kouOS_e2L"
      },
      "execution_count": null,
      "outputs": []
    },
    {
      "cell_type": "code",
      "source": [
        "import requests\n",
        "from bs4 import BeautifulSoup\n",
        "import os\n",
        "import json\n",
        "import subprocess"
      ],
      "metadata": {
        "id": "ipYDfMtt_e3H"
      },
      "execution_count": 4,
      "outputs": []
    },
    {
      "cell_type": "code",
      "source": [],
      "metadata": {
        "id": "eksCE_iB_uV7"
      },
      "execution_count": null,
      "outputs": []
    },
    {
      "cell_type": "code",
      "source": [
        "# Directory to save the downloaded images\n",
        "save_folder = '/content/vijay_images'\n",
        "os.makedirs(save_folder, exist_ok=True)"
      ],
      "metadata": {
        "id": "dGr2aXbi_uWz"
      },
      "execution_count": 5,
      "outputs": []
    },
    {
      "cell_type": "code",
      "source": [],
      "metadata": {
        "id": "m3-4BzOt_5DH"
      },
      "execution_count": null,
      "outputs": []
    },
    {
      "cell_type": "code",
      "source": [
        "#Function to download the image\n",
        "def download_image(img_url, img_name, save_folder):\n",
        "    img_path = os.path.join(save_folder, img_name)\n",
        "    response = requests.get(img_url)\n",
        "    with open(img_path, 'wb') as file:\n",
        "        file.write(response.content)\n",
        "    print(f\"Downloaded: {img_name}\")\n",
        "    return img_path"
      ],
      "metadata": {
        "id": "IulVhaV__5EO"
      },
      "execution_count": 6,
      "outputs": []
    },
    {
      "cell_type": "code",
      "source": [
        "# Function to extract metadata using ExifTool (using subprocess)\n",
        "def get_metadata(image_path):\n",
        "    result = subprocess.run(['exiftool', image_path], capture_output=True, text=True)\n",
        "    return result.stdout\n",
        "\n",
        "# Function to extract image URLs from the website\n",
        "def extract_image_urls(url):\n",
        "    response = requests.get(url)\n",
        "    soup = BeautifulSoup(response.text, 'html.parser')\n",
        "\n",
        "    img_urls = []\n",
        "    for img_tag in soup.find_all('img'):\n",
        "        img_url = img_tag.get('src')\n",
        "        if img_url:\n",
        "            img_urls.append(img_url)\n",
        "    return img_urls\n",
        "\n",
        "\n",
        ""
      ],
      "metadata": {
        "id": "Vf07-JrdAEdT"
      },
      "execution_count": 7,
      "outputs": []
    },
    {
      "cell_type": "code",
      "source": [
        "# Main function to scrape and download images with metadata\n",
        "def scrape_and_download_images(url, save_folder):\n",
        "    img_urls = extract_image_urls(url)\n",
        "    metadata_list = []\n",
        "\n",
        "    for idx, img_url in enumerate(img_urls[:15]):  # Limit to the first 15 images\n",
        "        img_name = f\"vijay_{idx + 1}.jpg\"\n",
        "        img_path = download_image(img_url, img_name, save_folder)\n",
        "\n",
        "        # Extract metadata for the downloaded image\n",
        "        metadata = get_metadata(img_path)\n",
        "        metadata_list.append({\n",
        "            'image_name': img_name,\n",
        "            'metadata': metadata\n",
        "        })\n",
        "\n",
        "    # Save metadata as JSON\n",
        "    metadata_file = os.path.join(save_folder, 'metadata.json')\n",
        "    with open(metadata_file, 'w') as json_file:\n",
        "        json.dump(metadata_list, json_file, indent=4)\n"
      ],
      "metadata": {
        "id": "UVIIlmnQAOgO"
      },
      "execution_count": 12,
      "outputs": []
    },
    {
      "cell_type": "code",
      "source": [
        "scrape_and_download_images('https://www.pinterest.com/tnivedha19/vijay/', save_folder)"
      ],
      "metadata": {
        "colab": {
          "base_uri": "https://localhost:8080/"
        },
        "id": "JmIBPiD2A9fi",
        "outputId": "2d5c1bbe-4ca4-447f-c15a-eab1f3430e64"
      },
      "execution_count": 13,
      "outputs": [
        {
          "output_type": "stream",
          "name": "stdout",
          "text": [
            "Downloaded: vijay_1.jpg\n",
            "Downloaded: vijay_2.jpg\n",
            "Downloaded: vijay_3.jpg\n",
            "Downloaded: vijay_4.jpg\n",
            "Downloaded: vijay_5.jpg\n",
            "Downloaded: vijay_6.jpg\n",
            "Downloaded: vijay_7.jpg\n",
            "Downloaded: vijay_8.jpg\n",
            "Downloaded: vijay_9.jpg\n",
            "Downloaded: vijay_10.jpg\n",
            "Downloaded: vijay_11.jpg\n",
            "Downloaded: vijay_12.jpg\n",
            "Downloaded: vijay_13.jpg\n",
            "Downloaded: vijay_14.jpg\n",
            "Downloaded: vijay_15.jpg\n"
          ]
        }
      ]
    }
  ]
}